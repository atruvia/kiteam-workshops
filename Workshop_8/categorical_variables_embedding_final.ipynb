{
 "cells": [
  {
   "cell_type": "code",
   "execution_count": 20,
   "metadata": {},
   "outputs": [],
   "source": [
    "import os\n",
    "\n",
    "import pandas as pd\n",
    "import numpy as np\n",
    "import matplotlib.pyplot as plt\n",
    "\n",
    "from IPython.display import SVG\n",
    "\n",
    "from keras.models import Sequential, Model\n",
    "from keras.layers import Input, Dense, Concatenate, Reshape, Dropout\n",
    "from keras.layers.embeddings import Embedding\n",
    "from keras.constraints import max_norm\n",
    "\n",
    "from keras.utils import plot_model\n",
    "from keras.utils.vis_utils import model_to_dot\n",
    "\n",
    "from sklearn.preprocessing import StandardScaler\n",
    "from sklearn.impute import SimpleImputer\n",
    "from sklearn.model_selection import StratifiedShuffleSplit\n",
    "from sklearn.metrics import classification_report\n",
    "\n",
    "from sklearn.metrics import precision_recall_curve\n",
    "from sklearn.utils.fixes import signature\n",
    "\n",
    "from pandas.api.types import CategoricalDtype"
   ]
  },
  {
   "cell_type": "code",
   "execution_count": 2,
   "metadata": {},
   "outputs": [],
   "source": [
    "PATH_TO_DATA = '../datasets/porto-seguros-safe-driver-prediction-files'"
   ]
  },
  {
   "cell_type": "markdown",
   "metadata": {},
   "source": [
    "### Load Data"
   ]
  },
  {
   "cell_type": "code",
   "execution_count": 3,
   "metadata": {},
   "outputs": [],
   "source": [
    "Xy_all = pd.read_csv(os.path.join(PATH_TO_DATA, 'train.csv'), nrows=100000)\n",
    "X_all = Xy_all.drop(columns=['id','target'])\n",
    "y_all = Xy_all['target']\n",
    "\n",
    "del Xy_all"
   ]
  },
  {
   "cell_type": "markdown",
   "metadata": {},
   "source": [
    "### Preprocessing"
   ]
  },
  {
   "cell_type": "markdown",
   "metadata": {},
   "source": [
    "##### Get different coloumn types"
   ]
  },
  {
   "cell_type": "code",
   "execution_count": 4,
   "metadata": {},
   "outputs": [],
   "source": [
    "cat_cols = [col for col in X_all if col.endswith('_cat')]\n",
    "bin_cols = [col for col in X_all if col.endswith('_bin')]\n",
    "other_cols = [col for col in X_all.columns if ((not col in cat_cols) and (not col in bin_cols))]"
   ]
  },
  {
   "cell_type": "markdown",
   "metadata": {},
   "source": [
    "##### Encode categorical variables"
   ]
  },
  {
   "cell_type": "code",
   "execution_count": 5,
   "metadata": {},
   "outputs": [],
   "source": [
    "X_all[cat_cols] = X_all[cat_cols].astype('category')\n",
    "\n",
    "cat_cols_coded = []\n",
    "for col in cat_cols:\n",
    "    X_all[col + '_coded'] = X_all[col].cat.codes\n",
    "    cat_cols_coded.append(col+'_coded')"
   ]
  },
  {
   "cell_type": "markdown",
   "metadata": {},
   "source": [
    "##### Train/Val/Test split"
   ]
  },
  {
   "cell_type": "code",
   "execution_count": 6,
   "metadata": {},
   "outputs": [],
   "source": [
    "sss = StratifiedShuffleSplit(n_splits=1, test_size=0.2, random_state=42)\n",
    "\n",
    "for train_index, test_index in sss.split(X_all, y_all):\n",
    "    XX_train, X_test = X_all.iloc[train_index], X_all.iloc[test_index]\n",
    "    yy_train, y_test = y_all.iloc[train_index], y_all.iloc[test_index]\n",
    "    \n",
    "del X_all\n",
    "del y_all\n",
    "\n",
    "sss = StratifiedShuffleSplit(n_splits=1, test_size=0.15, random_state=43)\n",
    "\n",
    "for train_index, test_index in sss.split(XX_train, yy_train):\n",
    "    X_train, X_val = XX_train.iloc[train_index], XX_train.iloc[test_index]\n",
    "    y_train, y_val = yy_train.iloc[train_index], yy_train.iloc[test_index]\n",
    "    \n",
    "del XX_train\n",
    "del yy_train"
   ]
  },
  {
   "cell_type": "markdown",
   "metadata": {},
   "source": [
    "#### Check for missing values"
   ]
  },
  {
   "cell_type": "code",
   "execution_count": 7,
   "metadata": {},
   "outputs": [
    {
     "name": "stdout",
     "output_type": "stream",
     "text": [
      "Variable ps_ind_02_cat has 20 records (0.03%) with missing values\n",
      "Variable ps_ind_04_cat has 7 records (0.01%) with missing values\n",
      "Variable ps_ind_05_cat has 637 records (0.94%) with missing values\n",
      "Variable ps_reg_03 has 12310 records (18.10%) with missing values\n",
      "Variable ps_car_01_cat has 7 records (0.01%) with missing values\n",
      "Variable ps_car_03_cat has 46900 records (68.97%) with missing values\n",
      "Variable ps_car_05_cat has 30373 records (44.67%) with missing values\n",
      "Variable ps_car_07_cat has 1262 records (1.86%) with missing values\n",
      "Variable ps_car_09_cat has 60 records (0.09%) with missing values\n",
      "Variable ps_car_14 has 4840 records (7.12%) with missing values\n"
     ]
    }
   ],
   "source": [
    "for col in X_train.columns:\n",
    "    miss = X_train[X_train[col] == -1][col].count()\n",
    "    if miss > 0:\n",
    "        miss_perc = miss/X_train.shape[0]\n",
    "        \n",
    "        print(f'Variable {col} has {miss} records ({miss_perc:.2%}) with missing values')"
   ]
  },
  {
   "cell_type": "markdown",
   "metadata": {},
   "source": [
    "##### Delete empty columns"
   ]
  },
  {
   "cell_type": "code",
   "execution_count": 8,
   "metadata": {},
   "outputs": [],
   "source": [
    "cols_to_drop = ['ps_car_03_cat', 'ps_car_05_cat']\n",
    "\n",
    "X_train.drop(columns=cols_to_drop, inplace=True)\n",
    "X_val.drop(columns=cols_to_drop, inplace=True)\n",
    "X_test.drop(columns=cols_to_drop, inplace=True)"
   ]
  },
  {
   "cell_type": "markdown",
   "metadata": {},
   "source": [
    "##### Imputing mean or most frequent values"
   ]
  },
  {
   "cell_type": "code",
   "execution_count": 9,
   "metadata": {},
   "outputs": [],
   "source": [
    "imp_medi = SimpleImputer(missing_values=-1, strategy='median')\n",
    "X_train['ps_reg_03'] = imp_medi.fit_transform(X_train[['ps_reg_03']])\n",
    "\n",
    "X_val['ps_reg_03'] = imp_medi.transform(X_val[['ps_reg_03']])\n",
    "X_test['ps_reg_03'] = imp_medi.transform(X_test[['ps_reg_03']])"
   ]
  },
  {
   "cell_type": "code",
   "execution_count": 10,
   "metadata": {},
   "outputs": [],
   "source": [
    "imp_mode = SimpleImputer(missing_values=-1, strategy='most_frequent')\n",
    "X_train['ps_car_14'] = imp_mode.fit_transform(X_train[['ps_car_14']])\n",
    "\n",
    "X_val['ps_car_14'] = imp_mode.transform(X_val[['ps_car_14']])\n",
    "X_test['ps_car_14'] = imp_mode.transform(X_test[['ps_car_14']])"
   ]
  },
  {
   "cell_type": "markdown",
   "metadata": {},
   "source": [
    "##### Scale other variables (dtype float)"
   ]
  },
  {
   "cell_type": "code",
   "execution_count": 11,
   "metadata": {},
   "outputs": [],
   "source": [
    "scaler = StandardScaler()\n",
    "\n",
    "other_cols_scaled = []\n",
    "for col in other_cols:\n",
    "    \n",
    "    if X_train[col].dtype == 'float64':\n",
    "        X_train[col + '_scaled'] = scaler.fit_transform(X_train[col].values.reshape(-1, 1))\n",
    "        X_val[col + '_scaled'] = scaler.transform(X_val[col].values.reshape(-1, 1))\n",
    "        X_test[col + '_scaled'] = scaler.transform(X_test[col].values.reshape(-1, 1))\n",
    "        other_cols_scaled.append(col+'_scaled')"
   ]
  },
  {
   "cell_type": "markdown",
   "metadata": {},
   "source": [
    "## Model with embedding"
   ]
  },
  {
   "cell_type": "code",
   "execution_count": 12,
   "metadata": {},
   "outputs": [],
   "source": [
    "def create_embedding_model():\n",
    "    inputs = []\n",
    "    models = []\n",
    "    \n",
    "    for cat_col in cat_cols_coded:\n",
    "        \n",
    "        cat_input = Input(shape=(1,))\n",
    "        \n",
    "        no_of_unique_cat  = X_train[cat_col].nunique()\n",
    "        embedding_size = min(np.ceil((no_of_unique_cat)/2), 50 )\n",
    "        embedding_size = int(embedding_size)\n",
    "        vocab  = no_of_unique_cat+1\n",
    "        \n",
    "        embedding = Embedding(vocab ,embedding_size)(cat_input)\n",
    "        embedding = Reshape(target_shape=(embedding_size,))(embedding)\n",
    "        \n",
    "        inputs.append(cat_input)\n",
    "        models.append(embedding)\n",
    "    \n",
    "    bin_input = Input(shape=(len(bin_cols),), name='binned')\n",
    "    bin_model = Dense(int(len(bin_cols)/2),  activation='relu', kernel_constraint=max_norm(4.),\n",
    "                        name='bin_dense')(bin_input)\n",
    "    \n",
    "    inputs.append(bin_input)\n",
    "    models.append(bin_model)\n",
    "    \n",
    "    other_input = Input(shape=(len(other_cols),), name='other')\n",
    "    other_model = Dense(int(len(bin_cols)/2), activation='relu', kernel_constraint=max_norm(4.),\n",
    "                        name='other_dense')(other_input)\n",
    "    \n",
    "    inputs.append(other_input)\n",
    "    models.append(other_model)\n",
    "    \n",
    "    full_model = Concatenate()(models)\n",
    "    full_model = Dense(55, activation='relu', kernel_constraint=max_norm(4.))(full_model)\n",
    "    full_model = Dropout(.35)(full_model)\n",
    "    full_model = Dense(10, activation='relu', kernel_constraint=max_norm(4.))(full_model)\n",
    "    full_model = Dropout(.15)(full_model)\n",
    "    \n",
    "    output = Dense(1, activation='sigmoid')(full_model)\n",
    "    \n",
    "    model = Model(inputs, output)\n",
    "    model.compile(loss='binary_crossentropy', optimizer='adam', metrics=['accuracy'])\n",
    "\n",
    "    return model      \n",
    "        "
   ]
  },
  {
   "cell_type": "code",
   "execution_count": 13,
   "metadata": {
    "scrolled": true
   },
   "outputs": [
    {
     "name": "stdout",
     "output_type": "stream",
     "text": [
      "__________________________________________________________________________________________________\n",
      "Layer (type)                    Output Shape         Param #     Connected to                     \n",
      "==================================================================================================\n",
      "input_1 (InputLayer)            (None, 1)            0                                            \n",
      "__________________________________________________________________________________________________\n",
      "input_2 (InputLayer)            (None, 1)            0                                            \n",
      "__________________________________________________________________________________________________\n",
      "input_3 (InputLayer)            (None, 1)            0                                            \n",
      "__________________________________________________________________________________________________\n",
      "input_4 (InputLayer)            (None, 1)            0                                            \n",
      "__________________________________________________________________________________________________\n",
      "input_5 (InputLayer)            (None, 1)            0                                            \n",
      "__________________________________________________________________________________________________\n",
      "input_6 (InputLayer)            (None, 1)            0                                            \n",
      "__________________________________________________________________________________________________\n",
      "input_7 (InputLayer)            (None, 1)            0                                            \n",
      "__________________________________________________________________________________________________\n",
      "input_8 (InputLayer)            (None, 1)            0                                            \n",
      "__________________________________________________________________________________________________\n",
      "input_9 (InputLayer)            (None, 1)            0                                            \n",
      "__________________________________________________________________________________________________\n",
      "input_10 (InputLayer)           (None, 1)            0                                            \n",
      "__________________________________________________________________________________________________\n",
      "input_11 (InputLayer)           (None, 1)            0                                            \n",
      "__________________________________________________________________________________________________\n",
      "input_12 (InputLayer)           (None, 1)            0                                            \n",
      "__________________________________________________________________________________________________\n",
      "input_13 (InputLayer)           (None, 1)            0                                            \n",
      "__________________________________________________________________________________________________\n",
      "input_14 (InputLayer)           (None, 1)            0                                            \n",
      "__________________________________________________________________________________________________\n",
      "embedding_1 (Embedding)         (None, 1, 3)         18          input_1[0][0]                    \n",
      "__________________________________________________________________________________________________\n",
      "embedding_2 (Embedding)         (None, 1, 2)         8           input_2[0][0]                    \n",
      "__________________________________________________________________________________________________\n",
      "embedding_3 (Embedding)         (None, 1, 4)         36          input_3[0][0]                    \n",
      "__________________________________________________________________________________________________\n",
      "embedding_4 (Embedding)         (None, 1, 7)         98          input_4[0][0]                    \n",
      "__________________________________________________________________________________________________\n",
      "embedding_5 (Embedding)         (None, 1, 1)         3           input_5[0][0]                    \n",
      "__________________________________________________________________________________________________\n",
      "embedding_6 (Embedding)         (None, 1, 2)         8           input_6[0][0]                    \n",
      "__________________________________________________________________________________________________\n",
      "embedding_7 (Embedding)         (None, 1, 5)         55          input_7[0][0]                    \n",
      "__________________________________________________________________________________________________\n",
      "embedding_8 (Embedding)         (None, 1, 2)         8           input_8[0][0]                    \n",
      "__________________________________________________________________________________________________\n",
      "embedding_9 (Embedding)         (None, 1, 9)         171         input_9[0][0]                    \n",
      "__________________________________________________________________________________________________\n",
      "embedding_10 (Embedding)        (None, 1, 2)         8           input_10[0][0]                   \n",
      "__________________________________________________________________________________________________\n",
      "embedding_11 (Embedding)        (None, 1, 1)         3           input_11[0][0]                   \n",
      "__________________________________________________________________________________________________\n",
      "embedding_12 (Embedding)        (None, 1, 3)         21          input_12[0][0]                   \n",
      "__________________________________________________________________________________________________\n",
      "embedding_13 (Embedding)        (None, 1, 2)         8           input_13[0][0]                   \n",
      "__________________________________________________________________________________________________\n",
      "embedding_14 (Embedding)        (None, 1, 50)        5250        input_14[0][0]                   \n",
      "__________________________________________________________________________________________________\n",
      "binned (InputLayer)             (None, 17)           0                                            \n",
      "__________________________________________________________________________________________________\n",
      "other (InputLayer)              (None, 26)           0                                            \n",
      "__________________________________________________________________________________________________\n",
      "reshape_1 (Reshape)             (None, 3)            0           embedding_1[0][0]                \n",
      "__________________________________________________________________________________________________\n",
      "reshape_2 (Reshape)             (None, 2)            0           embedding_2[0][0]                \n",
      "__________________________________________________________________________________________________\n",
      "reshape_3 (Reshape)             (None, 4)            0           embedding_3[0][0]                \n",
      "__________________________________________________________________________________________________\n",
      "reshape_4 (Reshape)             (None, 7)            0           embedding_4[0][0]                \n",
      "__________________________________________________________________________________________________\n",
      "reshape_5 (Reshape)             (None, 1)            0           embedding_5[0][0]                \n",
      "__________________________________________________________________________________________________\n",
      "reshape_6 (Reshape)             (None, 2)            0           embedding_6[0][0]                \n",
      "__________________________________________________________________________________________________\n",
      "reshape_7 (Reshape)             (None, 5)            0           embedding_7[0][0]                \n",
      "__________________________________________________________________________________________________\n",
      "reshape_8 (Reshape)             (None, 2)            0           embedding_8[0][0]                \n",
      "__________________________________________________________________________________________________\n",
      "reshape_9 (Reshape)             (None, 9)            0           embedding_9[0][0]                \n",
      "__________________________________________________________________________________________________\n",
      "reshape_10 (Reshape)            (None, 2)            0           embedding_10[0][0]               \n",
      "__________________________________________________________________________________________________\n",
      "reshape_11 (Reshape)            (None, 1)            0           embedding_11[0][0]               \n",
      "__________________________________________________________________________________________________\n",
      "reshape_12 (Reshape)            (None, 3)            0           embedding_12[0][0]               \n",
      "__________________________________________________________________________________________________\n",
      "reshape_13 (Reshape)            (None, 2)            0           embedding_13[0][0]               \n",
      "__________________________________________________________________________________________________\n",
      "reshape_14 (Reshape)            (None, 50)           0           embedding_14[0][0]               \n",
      "__________________________________________________________________________________________________\n",
      "bin_dense (Dense)               (None, 8)            144         binned[0][0]                     \n",
      "__________________________________________________________________________________________________\n",
      "other_dense (Dense)             (None, 8)            216         other[0][0]                      \n",
      "__________________________________________________________________________________________________\n",
      "concatenate_1 (Concatenate)     (None, 109)          0           reshape_1[0][0]                  \n",
      "                                                                 reshape_2[0][0]                  \n",
      "                                                                 reshape_3[0][0]                  \n",
      "                                                                 reshape_4[0][0]                  \n",
      "                                                                 reshape_5[0][0]                  \n",
      "                                                                 reshape_6[0][0]                  \n",
      "                                                                 reshape_7[0][0]                  \n",
      "                                                                 reshape_8[0][0]                  \n",
      "                                                                 reshape_9[0][0]                  \n",
      "                                                                 reshape_10[0][0]                 \n",
      "                                                                 reshape_11[0][0]                 \n",
      "                                                                 reshape_12[0][0]                 \n",
      "                                                                 reshape_13[0][0]                 \n",
      "                                                                 reshape_14[0][0]                 \n",
      "                                                                 bin_dense[0][0]                  \n",
      "                                                                 other_dense[0][0]                \n",
      "__________________________________________________________________________________________________\n",
      "dense_1 (Dense)                 (None, 55)           6050        concatenate_1[0][0]              \n",
      "__________________________________________________________________________________________________\n",
      "dropout_1 (Dropout)             (None, 55)           0           dense_1[0][0]                    \n",
      "__________________________________________________________________________________________________\n",
      "dense_2 (Dense)                 (None, 10)           560         dropout_1[0][0]                  \n",
      "__________________________________________________________________________________________________\n",
      "dropout_2 (Dropout)             (None, 10)           0           dense_2[0][0]                    \n",
      "__________________________________________________________________________________________________\n",
      "dense_3 (Dense)                 (None, 1)            11          dropout_2[0][0]                  \n",
      "==================================================================================================\n",
      "Total params: 12,676\n",
      "Trainable params: 12,676\n",
      "Non-trainable params: 0\n",
      "__________________________________________________________________________________________________\n"
     ]
    }
   ],
   "source": [
    "emb_model = create_embedding_model()\n",
    "emb_model.summary()"
   ]
  },
  {
   "cell_type": "code",
   "execution_count": 14,
   "metadata": {},
   "outputs": [],
   "source": [
    "def prepare_nn_input(X_data):\n",
    "    nn_input = []\n",
    "    for col in cat_cols_coded:\n",
    "        nn_input.append(X_data[col].values)\n",
    "    \n",
    "    bin_input = X_data[bin_cols].values\n",
    "    other_input = X_data[other_cols].values\n",
    "    \n",
    "    nn_input.append(bin_input)\n",
    "    nn_input.append(other_input)\n",
    "    return nn_input"
   ]
  },
  {
   "cell_type": "code",
   "execution_count": 15,
   "metadata": {},
   "outputs": [],
   "source": [
    "nn_train_input = prepare_nn_input(X_train)\n",
    "nn_val_input = prepare_nn_input(X_val)\n",
    "nn_test_input = prepare_nn_input(X_test)"
   ]
  },
  {
   "cell_type": "code",
   "execution_count": 16,
   "metadata": {
    "scrolled": true
   },
   "outputs": [
    {
     "name": "stdout",
     "output_type": "stream",
     "text": [
      "Train on 68000 samples, validate on 12000 samples\n",
      "Epoch 1/50\n",
      "68000/68000 [==============================] - 6s 87us/step - loss: 1.0222 - acc: 0.9554 - val_loss: 0.9979 - val_acc: 0.9633\n",
      "Epoch 2/50\n",
      "68000/68000 [==============================] - 5s 76us/step - loss: 1.0021 - acc: 0.9549 - val_loss: 0.9910 - val_acc: 0.9239\n",
      "Epoch 3/50\n",
      "68000/68000 [==============================] - 5s 74us/step - loss: 0.9950 - acc: 0.9052 - val_loss: 0.9934 - val_acc: 0.9011\n",
      "Epoch 4/50\n",
      "68000/68000 [==============================] - 5s 74us/step - loss: 0.9881 - acc: 0.9009 - val_loss: 0.9893 - val_acc: 0.8848\n",
      "Epoch 5/50\n",
      "68000/68000 [==============================] - 5s 73us/step - loss: 0.9845 - acc: 0.8953 - val_loss: 0.9898 - val_acc: 0.9073\n",
      "Epoch 6/50\n",
      "68000/68000 [==============================] - 5s 73us/step - loss: 0.9802 - acc: 0.9015 - val_loss: 0.9934 - val_acc: 0.8865\n",
      "Epoch 7/50\n",
      "68000/68000 [==============================] - 5s 74us/step - loss: 0.9736 - acc: 0.8969 - val_loss: 0.9908 - val_acc: 0.8850\n",
      "Epoch 8/50\n",
      "68000/68000 [==============================] - 5s 74us/step - loss: 0.9703 - acc: 0.8929 - val_loss: 0.9955 - val_acc: 0.8837\n",
      "Epoch 9/50\n",
      "68000/68000 [==============================] - 5s 74us/step - loss: 0.9672 - acc: 0.8932 - val_loss: 1.0033 - val_acc: 0.8395\n",
      "Epoch 10/50\n",
      "68000/68000 [==============================] - 5s 74us/step - loss: 0.9673 - acc: 0.8857 - val_loss: 1.0003 - val_acc: 0.8751\n",
      "Epoch 11/50\n",
      "68000/68000 [==============================] - 5s 74us/step - loss: 0.9593 - acc: 0.8859 - val_loss: 1.0077 - val_acc: 0.8937\n",
      "Epoch 12/50\n",
      "68000/68000 [==============================] - 5s 74us/step - loss: 0.9561 - acc: 0.8790 - val_loss: 1.0096 - val_acc: 0.8714\n",
      "Epoch 13/50\n",
      "68000/68000 [==============================] - 5s 74us/step - loss: 0.9509 - acc: 0.8780 - val_loss: 1.0079 - val_acc: 0.8622\n",
      "Epoch 14/50\n",
      "68000/68000 [==============================] - 5s 74us/step - loss: 0.9475 - acc: 0.8790 - val_loss: 1.0162 - val_acc: 0.8768\n",
      "Epoch 15/50\n",
      "68000/68000 [==============================] - 5s 74us/step - loss: 0.9420 - acc: 0.8784 - val_loss: 1.0077 - val_acc: 0.9183\n",
      "Epoch 16/50\n",
      "68000/68000 [==============================] - 5s 74us/step - loss: 0.9407 - acc: 0.8780 - val_loss: 1.0027 - val_acc: 0.8700\n",
      "Epoch 17/50\n",
      "68000/68000 [==============================] - 5s 74us/step - loss: 0.9364 - acc: 0.8769 - val_loss: 1.0124 - val_acc: 0.8405\n",
      "Epoch 18/50\n",
      "68000/68000 [==============================] - 5s 74us/step - loss: 0.9349 - acc: 0.8739 - val_loss: 1.0114 - val_acc: 0.8821\n",
      "Epoch 19/50\n",
      "68000/68000 [==============================] - 5s 74us/step - loss: 0.9335 - acc: 0.8775 - val_loss: 1.0154 - val_acc: 0.8536\n",
      "Epoch 20/50\n",
      "68000/68000 [==============================] - 5s 74us/step - loss: 0.9259 - acc: 0.8718 - val_loss: 1.0183 - val_acc: 0.8862\n",
      "Epoch 21/50\n",
      "68000/68000 [==============================] - 5s 74us/step - loss: 0.9182 - acc: 0.8747 - val_loss: 1.0397 - val_acc: 0.8442\n",
      "Epoch 22/50\n",
      "68000/68000 [==============================] - 5s 74us/step - loss: 0.9186 - acc: 0.8682 - val_loss: 1.0382 - val_acc: 0.8860\n",
      "Epoch 23/50\n",
      "68000/68000 [==============================] - 5s 74us/step - loss: 0.9109 - acc: 0.8726 - val_loss: 1.0280 - val_acc: 0.8753\n",
      "Epoch 24/50\n",
      "68000/68000 [==============================] - 5s 74us/step - loss: 0.9111 - acc: 0.8696 - val_loss: 1.0223 - val_acc: 0.8738\n",
      "Epoch 25/50\n",
      "68000/68000 [==============================] - 5s 74us/step - loss: 0.9078 - acc: 0.8638 - val_loss: 1.0268 - val_acc: 0.8692\n",
      "Epoch 26/50\n",
      "68000/68000 [==============================] - 5s 74us/step - loss: 0.9005 - acc: 0.8688 - val_loss: 1.0453 - val_acc: 0.8574\n",
      "Epoch 27/50\n",
      "68000/68000 [==============================] - 5s 74us/step - loss: 0.9034 - acc: 0.8735 - val_loss: 1.0530 - val_acc: 0.8667\n",
      "Epoch 28/50\n",
      "68000/68000 [==============================] - 5s 74us/step - loss: 0.8960 - acc: 0.8702 - val_loss: 1.0800 - val_acc: 0.8578\n",
      "Epoch 29/50\n",
      "68000/68000 [==============================] - 5s 74us/step - loss: 0.8938 - acc: 0.8706 - val_loss: 1.0389 - val_acc: 0.8602\n",
      "Epoch 30/50\n",
      "68000/68000 [==============================] - 5s 74us/step - loss: 0.8876 - acc: 0.8661 - val_loss: 1.0647 - val_acc: 0.8530\n",
      "Epoch 31/50\n",
      "68000/68000 [==============================] - 5s 74us/step - loss: 0.8887 - acc: 0.8625 - val_loss: 1.0376 - val_acc: 0.8648\n",
      "Epoch 32/50\n",
      "68000/68000 [==============================] - 5s 74us/step - loss: 0.8816 - acc: 0.8618 - val_loss: 1.0736 - val_acc: 0.8587\n",
      "Epoch 33/50\n",
      "68000/68000 [==============================] - 5s 74us/step - loss: 0.8815 - acc: 0.8628 - val_loss: 1.0614 - val_acc: 0.8615\n",
      "Epoch 34/50\n",
      "68000/68000 [==============================] - 5s 74us/step - loss: 0.8752 - acc: 0.8636 - val_loss: 1.0654 - val_acc: 0.8433\n",
      "Epoch 35/50\n",
      "68000/68000 [==============================] - 5s 74us/step - loss: 0.8743 - acc: 0.8627 - val_loss: 1.1229 - val_acc: 0.8872\n",
      "Epoch 36/50\n",
      "68000/68000 [==============================] - 5s 74us/step - loss: 0.8751 - acc: 0.8602 - val_loss: 1.0731 - val_acc: 0.8726\n",
      "Epoch 37/50\n",
      "68000/68000 [==============================] - 5s 74us/step - loss: 0.8682 - acc: 0.8657 - val_loss: 1.0751 - val_acc: 0.8427\n",
      "Epoch 38/50\n",
      "68000/68000 [==============================] - 5s 74us/step - loss: 0.8701 - acc: 0.8557 - val_loss: 1.1217 - val_acc: 0.8802\n",
      "Epoch 39/50\n",
      "68000/68000 [==============================] - 5s 74us/step - loss: 0.8629 - acc: 0.8596 - val_loss: 1.0784 - val_acc: 0.8720\n",
      "Epoch 40/50\n",
      "68000/68000 [==============================] - 5s 74us/step - loss: 0.8661 - acc: 0.8610 - val_loss: 1.0791 - val_acc: 0.8671\n",
      "Epoch 41/50\n",
      "68000/68000 [==============================] - 5s 74us/step - loss: 0.8555 - acc: 0.8640 - val_loss: 1.1003 - val_acc: 0.8735\n",
      "Epoch 42/50\n",
      "68000/68000 [==============================] - 5s 74us/step - loss: 0.8546 - acc: 0.8588 - val_loss: 1.1019 - val_acc: 0.8781\n",
      "Epoch 43/50\n",
      "68000/68000 [==============================] - 5s 74us/step - loss: 0.8546 - acc: 0.8585 - val_loss: 1.1202 - val_acc: 0.8823\n",
      "Epoch 44/50\n",
      "68000/68000 [==============================] - 5s 74us/step - loss: 0.8542 - acc: 0.8607 - val_loss: 1.0832 - val_acc: 0.8355\n",
      "Epoch 45/50\n",
      "68000/68000 [==============================] - 5s 74us/step - loss: 0.8489 - acc: 0.8574 - val_loss: 1.1234 - val_acc: 0.8471\n",
      "Epoch 46/50\n",
      "68000/68000 [==============================] - 5s 74us/step - loss: 0.8499 - acc: 0.8598 - val_loss: 1.1168 - val_acc: 0.8884\n",
      "Epoch 47/50\n",
      "68000/68000 [==============================] - 5s 74us/step - loss: 0.8492 - acc: 0.8640 - val_loss: 1.1484 - val_acc: 0.8946\n",
      "Epoch 48/50\n",
      "68000/68000 [==============================] - 5s 77us/step - loss: 0.8537 - acc: 0.8647 - val_loss: 1.1632 - val_acc: 0.8726\n",
      "Epoch 49/50\n",
      "68000/68000 [==============================] - 5s 74us/step - loss: 0.8396 - acc: 0.8588 - val_loss: 1.1700 - val_acc: 0.8642\n",
      "Epoch 50/50\n",
      "68000/68000 [==============================] - 5s 74us/step - loss: 0.8478 - acc: 0.8615 - val_loss: 1.1726 - val_acc: 0.8715\n"
     ]
    }
   ],
   "source": [
    "neg_count = y_train.value_counts()[0]\n",
    "pos_count = y_train.value_counts()[1]\n",
    "\n",
    "tradeoff = 0.6\n",
    "weight = tradeoff * neg_count/pos_count\n",
    "\n",
    "class_weights = {0: 1.,\n",
    "                1: weight\n",
    "               }\n",
    "\n",
    "val_weights = y_val.values * weight\n",
    "val_weights[val_weights == 0] = 1\n",
    "\n",
    "val_data = (nn_val_input, y_val, val_weights)\n",
    "\n",
    "emb_model = create_embedding_model()\n",
    "emb_model_fitted = emb_model.fit(nn_train_input, y_train,\n",
    "                                 class_weight=class_weights, \n",
    "                                 validation_data = val_data,\n",
    "                                 batch_size=32, epochs= 50)"
   ]
  },
  {
   "cell_type": "code",
   "execution_count": 29,
   "metadata": {},
   "outputs": [
    {
     "name": "stdout",
     "output_type": "stream",
     "text": [
      "              precision    recall  f1-score   support\n",
      "\n",
      "           0     0.9644    0.9492    0.9567     19266\n",
      "           1     0.0560    0.0790    0.0655       734\n",
      "\n",
      "   micro avg     0.9173    0.9173    0.9173     20000\n",
      "   macro avg     0.5102    0.5141    0.5111     20000\n",
      "weighted avg     0.9310    0.9173    0.9240     20000\n",
      "\n"
     ]
    }
   ],
   "source": [
    "y_proba = emb_model.predict(nn_test_input)\n",
    "\n",
    "threshold = 0.6\n",
    "y_classes = (y_proba > threshold).flatten().astype('int32')\n",
    "\n",
    "print(classification_report(y_test, y_classes, digits=4))"
   ]
  },
  {
   "cell_type": "code",
   "execution_count": 24,
   "metadata": {},
   "outputs": [
    {
     "data": {
      "image/png": "[encoded data removed]",
      "text/plain": [
       "<Figure size 432x288 with 1 Axes>"
      ]
     },
     "metadata": {
      "needs_background": "light"
     },
     "output_type": "display_data"
    }
   ],
   "source": [
    "precision, recall, _ = precision_recall_curve(y_test, y_proba)\n",
    "\n",
    "step_kwargs = ({'step': 'post'}\n",
    "               if 'step' in signature(plt.fill_between).parameters\n",
    "               else {})\n",
    "plt.step(recall, precision, color='b', alpha=0.2,\n",
    "         where='post')\n",
    "plt.fill_between(recall, precision, alpha=0.2, color='b', **step_kwargs)\n",
    "\n",
    "plt.xlabel('Recall')\n",
    "plt.ylabel('Precision')\n",
    "plt.ylim([0.0, .3])\n",
    "plt.xlim([0.0, 1.0])\n",
    "plt.show()"
   ]
  }
 ],
 "metadata": {
  "kernelspec": {
   "display_name": "Python 3",
   "language": "python",
   "name": "python3"
  },
  "language_info": {
   "codemirror_mode": {
    "name": "ipython",
    "version": 3
   },
   "file_extension": ".py",
   "mimetype": "text/x-python",
   "name": "python",
   "nbconvert_exporter": "python",
   "pygments_lexer": "ipython3",
   "version": "3.6.7"
  }
 },
 "nbformat": 4,
 "nbformat_minor": 2
}
