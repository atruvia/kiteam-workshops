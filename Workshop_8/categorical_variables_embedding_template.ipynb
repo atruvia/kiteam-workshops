{
 "cells": [
  {
   "cell_type": "code",
   "execution_count": null,
   "metadata": {},
   "outputs": [],
   "source": [
    "import os\n",
    "\n",
    "import pandas as pd\n",
    "import numpy as np\n",
    "import matplotlib.pyplot as plt\n",
    "\n",
    "from IPython.display import SVG\n",
    "\n",
    "from keras.models import Sequential, Model\n",
    "from keras.layers import Input, Dense, Concatenate, Reshape, Dropout\n",
    "from keras.layers.embeddings import Embedding\n",
    "from keras.constraints import max_norm\n",
    "\n",
    "from keras.utils import plot_model\n",
    "from keras.utils.vis_utils import model_to_dot\n",
    "\n",
    "from sklearn.model_selection import StratifiedShuffleSplit\n",
    "from sklearn.metrics import classification_report"
   ]
  },
  {
   "cell_type": "code",
   "execution_count": null,
   "metadata": {},
   "outputs": [],
   "source": [
    "PATH_TO_DATA = '../datasets/porto-seguros-safe-driver-prediction-files'"
   ]
  },
  {
   "cell_type": "code",
   "execution_count": null,
   "metadata": {},
   "outputs": [],
   "source": [
    "Xy_all = pd.read_csv(os.path.join(PATH_TO_DATA, 'train.csv'), nrows=100000)\n",
    "X_all = Xy_all.drop(columns=['id','target'])\n",
    "y_all = Xy_all['target']\n",
    "\n",
    "del Xy_all"
   ]
  },
  {
   "cell_type": "code",
   "execution_count": null,
   "metadata": {},
   "outputs": [],
   "source": [
    "cat_cols = [col for col in X_all if col.endswith('_cat')]\n",
    "\n",
    "X_all[cat_cols] = X_all[cat_cols].astype('category')\n",
    "\n",
    "cat_cols_coded = []\n",
    "for col in cat_cols:\n",
    "    X_all[col + '_coded'] = X_all[col].cat.codes\n",
    "    cat_cols_coded.append(col+'_coded')\n",
    "\n",
    "other_cols = [col for col in X_all.columns if ((not col in cat_cols) and (not col in cat_cols_coded))]"
   ]
  },
  {
   "cell_type": "code",
   "execution_count": null,
   "metadata": {},
   "outputs": [],
   "source": [
    "sss = StratifiedShuffleSplit(n_splits=1, test_size=0.15)\n",
    "\n",
    "for train_index, test_index in sss.split(X_all, y_all):\n",
    "    X_train, X_test = X_all.iloc[train_index], X_all.iloc[test_index]\n",
    "    y_train, y_test = y_all.iloc[train_index], y_all.iloc[test_index]\n",
    "    \n",
    "del X_all\n",
    "del y_all"
   ]
  },
  {
   "cell_type": "markdown",
   "metadata": {},
   "source": [
    "## Model with embedding"
   ]
  },
  {
   "cell_type": "code",
   "execution_count": null,
   "metadata": {},
   "outputs": [],
   "source": [
    "def create_embedding_model():\n",
    "    inputs = []\n",
    "    models = []\n",
    "    \n",
    "    cat_input =\n",
    "    emb_model =\n",
    "\n",
    "    inputs.append(cat_input)\n",
    "    models.append(emb_model)\n",
    "    \n",
    "    other_input =\n",
    "    other_model =\n",
    "    \n",
    "    inputs.append(other_input)\n",
    "    models.append(other_model)\n",
    "    \n",
    "    full_model = Concatenate()(models)\n",
    "    \n",
    "    output = Dense(1, activation='sigmoid')(full_model)\n",
    "    \n",
    "    model = Model(inputs, output)\n",
    "    model.compile(loss='binary_crossentropy', optimizer='adam')\n",
    "\n",
    "    return model          "
   ]
  },
  {
   "cell_type": "code",
   "execution_count": null,
   "metadata": {},
   "outputs": [],
   "source": [
    "emb_model = create_embedding_model()\n",
    "emb_model.summary()"
   ]
  },
  {
   "cell_type": "code",
   "execution_count": null,
   "metadata": {},
   "outputs": [],
   "source": [
    "def prepare_nn_input(X_data):\n",
    "\n",
    "    '''\n",
    "    Insert code here.\n",
    "    '''\n",
    "    \n",
    "    return nn_input"
   ]
  },
  {
   "cell_type": "code",
   "execution_count": null,
   "metadata": {},
   "outputs": [],
   "source": [
    "nn_train_input = prepare_nn_input(X_train)\n",
    "nn_test_input = prepare_nn_input(X_test)"
   ]
  },
  {
   "cell_type": "code",
   "execution_count": null,
   "metadata": {
    "scrolled": true
   },
   "outputs": [],
   "source": [
    "emb_model = create_embedding_model()\n",
    "emb_model_fitted = emb_model.fit(nn_train_input, y_train, batch_size=16, epochs=15)"
   ]
  },
  {
   "cell_type": "code",
   "execution_count": null,
   "metadata": {},
   "outputs": [],
   "source": [
    "y_proba = emb_model.predict(nn_test_input)\n",
    "\n",
    "treshold = 0.5\n",
    "y_classes = (y_proba > treshold).flatten().astype('int32')\n",
    "\n",
    "print(classification_report(y_test, y_classes, digits=4))"
   ]
  }
 ],
 "metadata": {
  "kernelspec": {
   "display_name": "Python 3",
   "language": "python",
   "name": "python3"
  },
  "language_info": {
   "codemirror_mode": {
    "name": "ipython",
    "version": 3
   },
   "file_extension": ".py",
   "mimetype": "text/x-python",
   "name": "python",
   "nbconvert_exporter": "python",
   "pygments_lexer": "ipython3",
   "version": "3.6.7"
  }
 },
 "nbformat": 4,
 "nbformat_minor": 2
}
