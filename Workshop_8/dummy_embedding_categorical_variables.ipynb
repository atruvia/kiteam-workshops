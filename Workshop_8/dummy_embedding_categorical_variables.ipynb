{
 "cells": [
  {
   "cell_type": "code",
   "execution_count": 1,
   "metadata": {},
   "outputs": [
    {
     "name": "stderr",
     "output_type": "stream",
     "text": [
      "Using TensorFlow backend.\n"
     ]
    }
   ],
   "source": [
    "import os\n",
    "\n",
    "import pandas as pd\n",
    "import numpy as np\n",
    "import matplotlib.pyplot as plt\n",
    "\n",
    "from IPython.display import SVG\n",
    "\n",
    "from keras.models import Sequential, Model\n",
    "from keras.layers import Input, Dense, Concatenate, Reshape, Dropout\n",
    "from keras.layers.embeddings import Embedding\n",
    "from keras.constraints import max_norm\n",
    "\n",
    "from keras.utils import plot_model\n",
    "from keras.utils.vis_utils import model_to_dot\n",
    "\n",
    "from sklearn.model_selection import StratifiedShuffleSplit\n",
    "from sklearn.metrics import classification_report"
   ]
  },
  {
   "cell_type": "code",
   "execution_count": 2,
   "metadata": {},
   "outputs": [],
   "source": [
    "PATH_TO_DATA = '../datasets/porto-seguros-safe-driver-prediction-files'"
   ]
  },
  {
   "cell_type": "code",
   "execution_count": 3,
   "metadata": {},
   "outputs": [],
   "source": [
    "Xy_all = pd.read_csv(os.path.join(PATH_TO_DATA, 'train.csv'), nrows=100000)\n",
    "X_all = Xy_all.drop(columns=['id','target'])\n",
    "y_all = Xy_all['target']"
   ]
  },
  {
   "cell_type": "code",
   "execution_count": 4,
   "metadata": {},
   "outputs": [],
   "source": [
    "cat_cols = [col for col in X_all if col.endswith('_cat')]\n",
    "X_all[cat_cols] = X_all[cat_cols].astype('category')\n",
    "\n",
    "cat_cols_coded = []\n",
    "for col in cat_cols:\n",
    "    X_all[col + '_coded'] = X_all[col].cat.codes\n",
    "    cat_cols_coded.append(col+'_coded')\n",
    "    \n",
    "other_cols = [col for col in X_all.columns if ((not col in cat_cols) and (not col in cat_cols_coded))]"
   ]
  },
  {
   "cell_type": "markdown",
   "metadata": {},
   "source": [
    "## Model with embedding"
   ]
  },
  {
   "cell_type": "code",
   "execution_count": 5,
   "metadata": {},
   "outputs": [],
   "source": [
    "sss = StratifiedShuffleSplit(n_splits=1, test_size=0.15)\n",
    "\n",
    "for train_index, test_index in sss.split(X_all, y_all):\n",
    "    X_train, X_test = X_all.iloc[train_index], X_all.iloc[test_index]\n",
    "    y_train, y_test = y_all.iloc[train_index], y_all.iloc[test_index]\n",
    "    "
   ]
  },
  {
   "cell_type": "code",
   "execution_count": 6,
   "metadata": {},
   "outputs": [],
   "source": [
    "def create_embedding_model():\n",
    "    inputs = []\n",
    "    models = []\n",
    "\n",
    "    cat_input = Input(shape=(1,))\n",
    "        \n",
    "    embedding = Embedding(6 ,10)(cat_input)\n",
    "    embedding = Reshape(target_shape=(10,))(embedding)\n",
    "        \n",
    "    inputs.append(cat_input)\n",
    "    models.append(embedding)\n",
    "    \n",
    "    other_input = Input(shape=(43,), name='other')\n",
    "    other_model = Dense(20, activation='relu', kernel_constraint=max_norm(4.),\n",
    "                        name='other_dense')(other_input)\n",
    "    \n",
    "    inputs.append(other_input)\n",
    "    models.append(other_model)\n",
    "    \n",
    "    full_model = Concatenate()(models)\n",
    "    full_model = Dense(10, activation='relu', kernel_constraint=max_norm(4.))(full_model)\n",
    "    \n",
    "    output = Dense(1, activation='sigmoid')(full_model)\n",
    "    \n",
    "    model = Model(inputs, output)\n",
    "    model.compile(loss='binary_crossentropy', optimizer='adam')\n",
    "\n",
    "    return model      "
   ]
  },
  {
   "cell_type": "code",
   "execution_count": 7,
   "metadata": {},
   "outputs": [
    {
     "name": "stdout",
     "output_type": "stream",
     "text": [
      "__________________________________________________________________________________________________\n",
      "Layer (type)                    Output Shape         Param #     Connected to                     \n",
      "==================================================================================================\n",
      "input_1 (InputLayer)            (None, 1)            0                                            \n",
      "__________________________________________________________________________________________________\n",
      "embedding_1 (Embedding)         (None, 1, 10)        60          input_1[0][0]                    \n",
      "__________________________________________________________________________________________________\n",
      "other (InputLayer)              (None, 43)           0                                            \n",
      "__________________________________________________________________________________________________\n",
      "reshape_1 (Reshape)             (None, 10)           0           embedding_1[0][0]                \n",
      "__________________________________________________________________________________________________\n",
      "other_dense (Dense)             (None, 20)           880         other[0][0]                      \n",
      "__________________________________________________________________________________________________\n",
      "concatenate_1 (Concatenate)     (None, 30)           0           reshape_1[0][0]                  \n",
      "                                                                 other_dense[0][0]                \n",
      "__________________________________________________________________________________________________\n",
      "dense_1 (Dense)                 (None, 10)           310         concatenate_1[0][0]              \n",
      "__________________________________________________________________________________________________\n",
      "dense_2 (Dense)                 (None, 1)            11          dense_1[0][0]                    \n",
      "==================================================================================================\n",
      "Total params: 1,261\n",
      "Trainable params: 1,261\n",
      "Non-trainable params: 0\n",
      "__________________________________________________________________________________________________\n"
     ]
    }
   ],
   "source": [
    "emb_model = create_embedding_model()\n",
    "emb_model.summary()"
   ]
  },
  {
   "cell_type": "code",
   "execution_count": 8,
   "metadata": {
    "scrolled": true
   },
   "outputs": [
    {
     "data": {
      "image/svg+xml": [
       "<svg height=\"410pt\" viewBox=\"0.00 0.00 309.00 410.00\" width=\"309pt\" xmlns=\"http://www.w3.org/2000/svg\" xmlns:xlink=\"http://www.w3.org/1999/xlink\">\n",
       "<g class=\"graph\" id=\"graph0\" transform=\"scale(1 1) rotate(0) translate(4 406)\">\n",
       "<title>G</title>\n",
       "<polygon fill=\"#ffffff\" points=\"-4,4 -4,-406 305,-406 305,4 -4,4\" stroke=\"transparent\"/>\n",
       "<!-- 4807453664 -->\n",
       "<g class=\"node\" id=\"node1\">\n",
       "<title>4807453664</title>\n",
       "<polygon fill=\"none\" points=\"18,-365.5 18,-401.5 147,-401.5 147,-365.5 18,-365.5\" stroke=\"#000000\"/>\n",
       "<text fill=\"#000000\" font-family=\"Times,serif\" font-size=\"14.00\" text-anchor=\"middle\" x=\"82.5\" y=\"-379.8\">input_1: InputLayer</text>\n",
       "</g>\n",
       "<!-- 112426097744 -->\n",
       "<g class=\"node\" id=\"node2\">\n",
       "<title>112426097744</title>\n",
       "<polygon fill=\"none\" points=\"0,-292.5 0,-328.5 165,-328.5 165,-292.5 0,-292.5\" stroke=\"#000000\"/>\n",
       "<text fill=\"#000000\" font-family=\"Times,serif\" font-size=\"14.00\" text-anchor=\"middle\" x=\"82.5\" y=\"-306.8\">embedding_1: Embedding</text>\n",
       "</g>\n",
       "<!-- 4807453664&#45;&gt;112426097744 -->\n",
       "<g class=\"edge\" id=\"edge1\">\n",
       "<title>4807453664-&gt;112426097744</title>\n",
       "<path d=\"M82.5,-365.4551C82.5,-357.3828 82.5,-347.6764 82.5,-338.6817\" fill=\"none\" stroke=\"#000000\"/>\n",
       "<polygon fill=\"#000000\" points=\"86.0001,-338.5903 82.5,-328.5904 79.0001,-338.5904 86.0001,-338.5903\" stroke=\"#000000\"/>\n",
       "</g>\n",
       "<!-- 112426097968 -->\n",
       "<g class=\"node\" id=\"node4\">\n",
       "<title>112426097968</title>\n",
       "<polygon fill=\"none\" points=\"24.5,-219.5 24.5,-255.5 152.5,-255.5 152.5,-219.5 24.5,-219.5\" stroke=\"#000000\"/>\n",
       "<text fill=\"#000000\" font-family=\"Times,serif\" font-size=\"14.00\" text-anchor=\"middle\" x=\"88.5\" y=\"-233.8\">reshape_1: Reshape</text>\n",
       "</g>\n",
       "<!-- 112426097744&#45;&gt;112426097968 -->\n",
       "<g class=\"edge\" id=\"edge2\">\n",
       "<title>112426097744-&gt;112426097968</title>\n",
       "<path d=\"M83.9831,-292.4551C84.6466,-284.3828 85.4444,-274.6764 86.1837,-265.6817\" fill=\"none\" stroke=\"#000000\"/>\n",
       "<polygon fill=\"#000000\" points=\"89.6821,-265.8435 87.0131,-255.5904 82.7056,-265.27 89.6821,-265.8435\" stroke=\"#000000\"/>\n",
       "</g>\n",
       "<!-- 112425428808 -->\n",
       "<g class=\"node\" id=\"node3\">\n",
       "<title>112425428808</title>\n",
       "<polygon fill=\"none\" points=\"183,-292.5 183,-328.5 298,-328.5 298,-292.5 183,-292.5\" stroke=\"#000000\"/>\n",
       "<text fill=\"#000000\" font-family=\"Times,serif\" font-size=\"14.00\" text-anchor=\"middle\" x=\"240.5\" y=\"-306.8\">other: InputLayer</text>\n",
       "</g>\n",
       "<!-- 112426097128 -->\n",
       "<g class=\"node\" id=\"node5\">\n",
       "<title>112426097128</title>\n",
       "<polygon fill=\"none\" points=\"174,-219.5 174,-255.5 301,-255.5 301,-219.5 174,-219.5\" stroke=\"#000000\"/>\n",
       "<text fill=\"#000000\" font-family=\"Times,serif\" font-size=\"14.00\" text-anchor=\"middle\" x=\"237.5\" y=\"-233.8\">other_dense: Dense</text>\n",
       "</g>\n",
       "<!-- 112425428808&#45;&gt;112426097128 -->\n",
       "<g class=\"edge\" id=\"edge3\">\n",
       "<title>112425428808-&gt;112426097128</title>\n",
       "<path d=\"M239.7584,-292.4551C239.4267,-284.3828 239.0278,-274.6764 238.6582,-265.6817\" fill=\"none\" stroke=\"#000000\"/>\n",
       "<polygon fill=\"#000000\" points=\"242.1512,-265.4382 238.2434,-255.5904 235.1571,-265.7257 242.1512,-265.4382\" stroke=\"#000000\"/>\n",
       "</g>\n",
       "<!-- 4552260072 -->\n",
       "<g class=\"node\" id=\"node6\">\n",
       "<title>4552260072</title>\n",
       "<polygon fill=\"none\" points=\"75,-146.5 75,-182.5 248,-182.5 248,-146.5 75,-146.5\" stroke=\"#000000\"/>\n",
       "<text fill=\"#000000\" font-family=\"Times,serif\" font-size=\"14.00\" text-anchor=\"middle\" x=\"161.5\" y=\"-160.8\">concatenate_1: Concatenate</text>\n",
       "</g>\n",
       "<!-- 112426097968&#45;&gt;4552260072 -->\n",
       "<g class=\"edge\" id=\"edge4\">\n",
       "<title>112426097968-&gt;4552260072</title>\n",
       "<path d=\"M106.5449,-219.4551C115.4946,-210.5054 126.453,-199.547 136.2231,-189.7769\" fill=\"none\" stroke=\"#000000\"/>\n",
       "<polygon fill=\"#000000\" points=\"138.8134,-192.1363 143.4096,-182.5904 133.8637,-187.1866 138.8134,-192.1363\" stroke=\"#000000\"/>\n",
       "</g>\n",
       "<!-- 112426097128&#45;&gt;4552260072 -->\n",
       "<g class=\"edge\" id=\"edge5\">\n",
       "<title>112426097128-&gt;4552260072</title>\n",
       "<path d=\"M218.7135,-219.4551C209.3961,-210.5054 197.9873,-199.547 187.8157,-189.7769\" fill=\"none\" stroke=\"#000000\"/>\n",
       "<polygon fill=\"#000000\" points=\"189.9704,-186.9935 180.3338,-182.5904 185.1212,-192.0419 189.9704,-186.9935\" stroke=\"#000000\"/>\n",
       "</g>\n",
       "<!-- 4552259624 -->\n",
       "<g class=\"node\" id=\"node7\">\n",
       "<title>4552259624</title>\n",
       "<polygon fill=\"none\" points=\"109,-73.5 109,-109.5 214,-109.5 214,-73.5 109,-73.5\" stroke=\"#000000\"/>\n",
       "<text fill=\"#000000\" font-family=\"Times,serif\" font-size=\"14.00\" text-anchor=\"middle\" x=\"161.5\" y=\"-87.8\">dense_1: Dense</text>\n",
       "</g>\n",
       "<!-- 4552260072&#45;&gt;4552259624 -->\n",
       "<g class=\"edge\" id=\"edge6\">\n",
       "<title>4552260072-&gt;4552259624</title>\n",
       "<path d=\"M161.5,-146.4551C161.5,-138.3828 161.5,-128.6764 161.5,-119.6817\" fill=\"none\" stroke=\"#000000\"/>\n",
       "<polygon fill=\"#000000\" points=\"165.0001,-119.5903 161.5,-109.5904 158.0001,-119.5904 165.0001,-119.5903\" stroke=\"#000000\"/>\n",
       "</g>\n",
       "<!-- 4565664544 -->\n",
       "<g class=\"node\" id=\"node8\">\n",
       "<title>4565664544</title>\n",
       "<polygon fill=\"none\" points=\"109,-.5 109,-36.5 214,-36.5 214,-.5 109,-.5\" stroke=\"#000000\"/>\n",
       "<text fill=\"#000000\" font-family=\"Times,serif\" font-size=\"14.00\" text-anchor=\"middle\" x=\"161.5\" y=\"-14.8\">dense_2: Dense</text>\n",
       "</g>\n",
       "<!-- 4552259624&#45;&gt;4565664544 -->\n",
       "<g class=\"edge\" id=\"edge7\">\n",
       "<title>4552259624-&gt;4565664544</title>\n",
       "<path d=\"M161.5,-73.4551C161.5,-65.3828 161.5,-55.6764 161.5,-46.6817\" fill=\"none\" stroke=\"#000000\"/>\n",
       "<polygon fill=\"#000000\" points=\"165.0001,-46.5903 161.5,-36.5904 158.0001,-46.5904 165.0001,-46.5903\" stroke=\"#000000\"/>\n",
       "</g>\n",
       "</g>\n",
       "</svg>"
      ],
      "text/plain": [
       "<IPython.core.display.SVG object>"
      ]
     },
     "execution_count": 8,
     "metadata": {},
     "output_type": "execute_result"
    }
   ],
   "source": [
    "SVG(model_to_dot(emb_model).create(prog='dot', format='svg'))"
   ]
  },
  {
   "cell_type": "code",
   "execution_count": 9,
   "metadata": {},
   "outputs": [],
   "source": [
    "nn_train_input = [X_train[cat_cols_coded[0]], X_train[other_cols]]\n",
    "nn_test_input = [X_test[cat_cols_coded[0]], X_test[other_cols]]"
   ]
  },
  {
   "cell_type": "code",
   "execution_count": 10,
   "metadata": {
    "scrolled": true
   },
   "outputs": [
    {
     "name": "stdout",
     "output_type": "stream",
     "text": [
      "Epoch 1/1\n",
      "85000/85000 [==============================] - 6s 66us/step - loss: 0.1665\n"
     ]
    }
   ],
   "source": [
    "emb_model = create_embedding_model()\n",
    "emb_model_fitted = emb_model.fit(nn_train_input, y_train, batch_size=16, epochs=1)"
   ]
  },
  {
   "cell_type": "code",
   "execution_count": 11,
   "metadata": {},
   "outputs": [
    {
     "name": "stdout",
     "output_type": "stream",
     "text": [
      "              precision    recall  f1-score   support\n",
      "\n",
      "           0     0.9633    1.0000    0.9813     14449\n",
      "           1     0.0000    0.0000    0.0000       551\n",
      "\n",
      "   micro avg     0.9633    0.9633    0.9633     15000\n",
      "   macro avg     0.4816    0.5000    0.4906     15000\n",
      "weighted avg     0.9279    0.9633    0.9452     15000\n",
      "\n"
     ]
    },
    {
     "name": "stderr",
     "output_type": "stream",
     "text": [
      "/Users/marcel/anaconda3/envs/ML_Setup/lib/python3.6/site-packages/sklearn/metrics/classification.py:1143: UndefinedMetricWarning: Precision and F-score are ill-defined and being set to 0.0 in labels with no predicted samples.\n",
      "  'precision', 'predicted', average, warn_for)\n"
     ]
    }
   ],
   "source": [
    "y_proba = emb_model.predict(nn_test_input)\n",
    "\n",
    "treshold = 0.5\n",
    "y_classes = (y_proba > treshold).flatten().astype('int32')\n",
    "\n",
    "print(classification_report(y_test, y_classes, digits=4))"
   ]
  }
 ],
 "metadata": {
  "kernelspec": {
   "display_name": "Python 3",
   "language": "python",
   "name": "python3"
  },
  "language_info": {
   "codemirror_mode": {
    "name": "ipython",
    "version": 3
   },
   "file_extension": ".py",
   "mimetype": "text/x-python",
   "name": "python",
   "nbconvert_exporter": "python",
   "pygments_lexer": "ipython3",
   "version": "3.6.7"
  }
 },
 "nbformat": 4,
 "nbformat_minor": 2
}
